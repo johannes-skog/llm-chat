{
 "cells": [
  {
   "cell_type": "code",
   "execution_count": null,
   "id": "786403cd",
   "metadata": {},
   "outputs": [],
   "source": [
    "!sh setup.sh\n",
    "# Start Tensorboard on a screen\n",
    "!screen -S tensorboard -dm \"tensorboard --logdir runs --port 6006\""
   ]
  },
  {
   "cell_type": "code",
   "execution_count": null,
   "id": "638722b7",
   "metadata": {},
   "outputs": [],
   "source": [
    "import sys\n",
    "sys.path.append('src/')\n",
    "%load_ext autoreload\n",
    "%autoreload 2\n",
    "from transformers import LlamaTokenizer, LlamaForCausalLM, GenerationConfig, pipeline\n",
    "import transformers\n",
    "import torch\n",
    "import transformers \n",
    "import torch"
   ]
  },
  {
   "cell_type": "code",
   "execution_count": 5,
   "id": "30f08c7e",
   "metadata": {},
   "outputs": [],
   "source": [
    "from model import GeneratorModel, Gpt2, Llama\n",
    "base_model = Llama(from_pretained)"
   ]
  },
  {
   "cell_type": "code",
   "execution_count": 4,
   "id": "9f0d8f71",
   "metadata": {},
   "outputs": [],
   "source": [
    "!python src/setup.py --model llama --local"
   ]
  },
  {
   "cell_type": "code",
   "execution_count": null,
   "id": "f7e72aa4",
   "metadata": {},
   "outputs": [],
   "source": [
    "!tensorboard --logdir artifacts &"
   ]
  },
  {
   "cell_type": "code",
   "execution_count": null,
   "id": "8520b89e",
   "metadata": {},
   "outputs": [],
   "source": []
  }
 ],
 "metadata": {
  "kernelspec": {
   "display_name": "Python 3 (ipykernel)",
   "language": "python",
   "name": "python3"
  },
  "language_info": {
   "codemirror_mode": {
    "name": "ipython",
    "version": 3
   },
   "file_extension": ".py",
   "mimetype": "text/x-python",
   "name": "python",
   "nbconvert_exporter": "python",
   "pygments_lexer": "ipython3",
   "version": "3.10.9"
  }
 },
 "nbformat": 4,
 "nbformat_minor": 5
}
