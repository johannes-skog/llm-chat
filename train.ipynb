{
 "cells": [
  {
   "cell_type": "code",
   "execution_count": 2,
   "id": "40fdbb4f",
   "metadata": {},
   "outputs": [
    {
     "name": "stdout",
     "output_type": "stream",
     "text": [
      "The autoreload extension is already loaded. To reload it, use:\n",
      "  %reload_ext autoreload\n"
     ]
    }
   ],
   "source": [
    "import sys\n",
    "sys.dont_write_bytecode = True\n",
    "from transformers import LlamaTokenizer, LlamaForCausalLM, GenerationConfig, pipeline\n",
    "import transformers\n",
    "import torch\n",
    "%load_ext autoreload\n",
    "%autoreload 2\n",
    "sys.path.append('src/')\n",
    "import transformers \n",
    "import torch\n",
    "from util import unshard_gedeepspeed\n",
    "\n",
    "def generate_text(model: torch.nn.Module, tokenizer, text):\n",
    "    \n",
    "    input_ids = tokenizer(text, return_tensors=\"pt\")[\"input_ids\"]\n",
    "\n",
    "    generation_config = transformers.GenerationConfig(\n",
    "        max_new_tokens=200,\n",
    "        temperature=0.6,\n",
    "        top_p=0.95,\n",
    "        repetition_penalty=1.2\n",
    "    )\n",
    "\n",
    "    base_model.eval()\n",
    "\n",
    "    with torch.no_grad():\n",
    "\n",
    "        outputs = model.generate(\n",
    "            input_ids=input_ids,\n",
    "            generation_config=generation_config,\n",
    "            return_dict_in_generate=True,\n",
    "            output_scores=True,\n",
    "            pad_token_id=tokenizer.pad_token_id,\n",
    "        )\n",
    "\n",
    "    response = tokenizer.decode(outputs.sequences[0], skip_special_tokens=True)\n",
    "    \n",
    "    return response"
   ]
  },
  {
   "cell_type": "code",
   "execution_count": null,
   "id": "0bac6b13",
   "metadata": {},
   "outputs": [],
   "source": [
    "from reacher.reacher import Reacher, ReacherDocker, RemoteClient\n",
    "\n",
    "reacher = Reacher(\n",
    "    build_name=\"training\",\n",
    "    host=\"sshc.jarvislabs.ai\",\n",
    "    port=18960,\n",
    "    user=\"root\",\n",
    "    ssh_key_filepath=\"/home/johannes/.ssh/id_rsa.pub\",\n",
    ")\n",
    "\n",
    "reacher.setup()"
   ]
  },
  {
   "cell_type": "code",
   "execution_count": null,
   "id": "d4a398c8",
   "metadata": {},
   "outputs": [],
   "source": [
    "%%writefile test.py\n",
    "\n",
    "import time \n",
    "for i in range(10000):\n",
    "    print(i)\n",
    "    time.sleep(1)"
   ]
  },
  {
   "cell_type": "code",
   "execution_count": null,
   "id": "61447a6f",
   "metadata": {},
   "outputs": [],
   "source": [
    "reacher.put(\"test2.py\")\n",
    "reacher.execute_command(\"python3 test2.py\", wrap_in_screen=True, named_session=\"test\")"
   ]
  },
  {
   "cell_type": "code",
   "execution_count": null,
   "id": "291b35e2",
   "metadata": {},
   "outputs": [],
   "source": [
    "reacher.list_named_sessions()"
   ]
  },
  {
   "cell_type": "code",
   "execution_count": null,
   "id": "2dd0d24d",
   "metadata": {},
   "outputs": [],
   "source": [
    "reacher.kill_named_session(\"test\")"
   ]
  },
  {
   "cell_type": "markdown",
   "id": "2658d31e",
   "metadata": {},
   "source": [
    "## Training"
   ]
  },
  {
   "cell_type": "markdown",
   "id": "942a7595",
   "metadata": {},
   "source": [
    "### Send all data to the remote"
   ]
  },
  {
   "cell_type": "code",
   "execution_count": null,
   "id": "0842839c",
   "metadata": {},
   "outputs": [],
   "source": [
    "reacher.put([\"src\", \"data\", \"config.yaml\"])"
   ]
  },
  {
   "cell_type": "code",
   "execution_count": null,
   "id": "86217058",
   "metadata": {},
   "outputs": [],
   "source": [
    "# Process the data\n",
    "reacher.execute_command(\n",
    "    \"python3 src/setup.py --local --model llama --data_file data/alpaca_data_cleaned.json --max_tokens 512\",\n",
    "    wrap_in_screen=True,\n",
    "    named_session=\"test\",\n",
    ")"
   ]
  },
  {
   "cell_type": "code",
   "execution_count": null,
   "id": "84eafac5",
   "metadata": {},
   "outputs": [],
   "source": []
  },
  {
   "cell_type": "code",
   "execution_count": null,
   "id": "de178f17",
   "metadata": {},
   "outputs": [],
   "source": [
    "# Train the model\n",
    "reacher.execute_command(\n",
    "    \"python3 src/train_lightning.py -c config.yaml \",\n",
    "    wrap_in_screen=True,\n",
    "    named_session=\"test\",\n",
    ")"
   ]
  },
  {
   "cell_type": "code",
   "execution_count": null,
   "id": "28c7d85e",
   "metadata": {},
   "outputs": [],
   "source": [
    "# Check the different runs\n",
    "reacher.ls(\"artifacts/alpaca/\")"
   ]
  },
  {
   "cell_type": "code",
   "execution_count": null,
   "id": "dd932248",
   "metadata": {},
   "outputs": [],
   "source": [
    "reacher.get()"
   ]
  },
  {
   "cell_type": "code",
   "execution_count": null,
   "id": "d8631f2f",
   "metadata": {},
   "outputs": [],
   "source": [
    "CHECKPOINT_PATH = \"\""
   ]
  },
  {
   "cell_type": "code",
   "execution_count": null,
   "id": "a0ff911c",
   "metadata": {},
   "outputs": [],
   "source": []
  },
  {
   "cell_type": "markdown",
   "id": "d56617c2",
   "metadata": {},
   "source": [
    "## Load the checkpointed model"
   ]
  },
  {
   "cell_type": "code",
   "execution_count": null,
   "id": "a248db29",
   "metadata": {},
   "outputs": [],
   "source": [
    "from util import unshard_deepspeed, TokenizerTokens\n",
    "from model import GeneratorModel, Llama\n",
    "\n",
    "unshard_deepspeed(CHECKPOINT_PATH, \"final.ckpt\")\n",
    "\n",
    "checkpoint_model = GeneratorModel.load_from_checkpoint(\n",
    "    \"final.ckpt\",\n",
    "    base_model=Llama(from_pretrained=True, lora=True),\n",
    "    strict=False\n",
    ")\n",
    "\n",
    "model = checkpoint_model._model\n",
    "\n",
    "tokenizer = transformers.LlamaTokenizer.from_pretrained(\n",
    "    \"decapoda-research/llama-7b-hf\"\n",
    ")\n",
    "\n",
    "tokenizer.add_special_tokens(\n",
    "    {\n",
    "        \"eos_token\": TokenizerTokens.DEFAULT_EOS_TOKEN,\n",
    "        \"bos_token\": TokenizerTokens.DEFAULT_BOS_TOKEN,\n",
    "        \"unk_token\": TokenizerTokens.DEFAULT_UNK_TOKEN,\n",
    "        \"pad_token\": TokenizerTokens.DEFAULT_PAD_TOKEN,\n",
    "    }\n",
    ")\n",
    "\n",
    "# model.half().to(\"cuda\")"
   ]
  },
  {
   "cell_type": "code",
   "execution_count": null,
   "id": "11b8eb3d",
   "metadata": {},
   "outputs": [],
   "source": [
    "from util import unshard_deepspeed\n",
    "from model import GeneratorModel, Gpt2\n",
    "\n",
    "checkpoint_model = GeneratorModel.load_from_checkpoint(\n",
    "    \"final.ckpt\",\n",
    "    base_model=Gpt2(from_pretrained=True, lora=True),\n",
    "    strict=True\n",
    ")\n",
    "\n",
    "model = checkpoint_model._model\n",
    "\n",
    "tokenizer = transformers.GPT2Tokenizer.from_pretrained(\"gpt2-large\")\n",
    "\n",
    "tokenizer.pad_token = tokenizer.bos_token \n",
    "\n",
    "# model.half().to(\"cuda\")"
   ]
  },
  {
   "cell_type": "code",
   "execution_count": null,
   "id": "d07fb742",
   "metadata": {},
   "outputs": [],
   "source": []
  },
  {
   "cell_type": "code",
   "execution_count": null,
   "id": "e227e0d1",
   "metadata": {},
   "outputs": [],
   "source": []
  },
  {
   "cell_type": "markdown",
   "id": "0bb82999",
   "metadata": {},
   "source": [
    "## Generate Text"
   ]
  },
  {
   "cell_type": "code",
   "execution_count": null,
   "id": "60d1a225",
   "metadata": {},
   "outputs": [],
   "source": [
    "from util import generate_prompt\n",
    "text = generate_prompt(\n",
    "    input=\"\",\n",
    "    instruction=\"\"\n",
    ")\n",
    "generated_text = generate_text(model=model, tokenizer=tokenizer, text=text)"
   ]
  },
  {
   "cell_type": "code",
   "execution_count": null,
   "id": "36b75495",
   "metadata": {},
   "outputs": [],
   "source": [
    "generated_text"
   ]
  },
  {
   "cell_type": "code",
   "execution_count": null,
   "id": "3930baac",
   "metadata": {},
   "outputs": [],
   "source": []
  },
  {
   "cell_type": "code",
   "execution_count": null,
   "id": "b8acf2af",
   "metadata": {},
   "outputs": [],
   "source": []
  },
  {
   "cell_type": "code",
   "execution_count": null,
   "id": "9904b4ea",
   "metadata": {},
   "outputs": [],
   "source": []
  },
  {
   "cell_type": "code",
   "execution_count": null,
   "id": "f6a5ec5d",
   "metadata": {},
   "outputs": [],
   "source": []
  }
 ],
 "metadata": {
  "kernelspec": {
   "display_name": "Python 3 (ipykernel)",
   "language": "python",
   "name": "python3"
  },
  "language_info": {
   "codemirror_mode": {
    "name": "ipython",
    "version": 3
   },
   "file_extension": ".py",
   "mimetype": "text/x-python",
   "name": "python",
   "nbconvert_exporter": "python",
   "pygments_lexer": "ipython3",
   "version": "3.10.9"
  }
 },
 "nbformat": 4,
 "nbformat_minor": 5
}
